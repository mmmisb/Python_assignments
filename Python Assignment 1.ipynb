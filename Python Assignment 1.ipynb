{
 "cells": [
  {
   "cell_type": "code",
   "execution_count": 7,
   "id": "2c91f075",
   "metadata": {},
   "outputs": [
    {
     "name": "stdout",
     "output_type": "stream",
     "text": [
      "Name is Moammar\n",
      "Age is 33\n",
      "Is a student?: False\n"
     ]
    }
   ],
   "source": [
    "# TASK 1A\n",
    "\n",
    "Age = 33\n",
    "Name = \"Moammar\"\n",
    "Profession_student = False\n",
    "\n",
    "# Defining the 3 variables\n",
    "\n",
    "print(\"Name is\", Name)\n",
    "print(\"Age is\", Age)\n",
    "print(\"Is a student?:\", Profession_student)\n",
    "\n",
    "# Printing the variables"
   ]
  },
  {
   "cell_type": "code",
   "execution_count": 8,
   "id": "20226664",
   "metadata": {},
   "outputs": [
    {
     "name": "stdout",
     "output_type": "stream",
     "text": [
      "Name is Moammar Smith\n",
      "Age is 58\n",
      "Is a student?: True\n"
     ]
    }
   ],
   "source": [
    "# TASK 1B\n",
    "\n",
    "Age = Age + 25\n",
    "Name= Name + \" Smith\"\n",
    "Profession_student = not (Profession_student)\n",
    "\n",
    "# Performing the 3 operations\n",
    "\n",
    "print(\"Name is\", Name)\n",
    "print(\"Age is\", Age)\n",
    "print(\"Is a student?:\", Profession_student)\n",
    "\n",
    "# Printing the variables\n"
   ]
  },
  {
   "cell_type": "code",
   "execution_count": 9,
   "id": "15fa5f37",
   "metadata": {},
   "outputs": [
    {
     "name": "stdout",
     "output_type": "stream",
     "text": [
      "17.875\n"
     ]
    }
   ],
   "source": [
    "# TASK 2A\n",
    "\n",
    "width=5.5\n",
    "height=3.25\n",
    "# Storing the values\n",
    "\n",
    "area=width*height\n",
    "# Defining the formula in a new variable\n",
    "\n",
    "print(area)"
   ]
  },
  {
   "cell_type": "code",
   "execution_count": 10,
   "id": "7b784a2a",
   "metadata": {},
   "outputs": [
    {
     "name": "stdout",
     "output_type": "stream",
     "text": [
      "212.0\n"
     ]
    }
   ],
   "source": [
    "# TASK 2B\n",
    "\n",
    "Temp_Celsius =100\n",
    "# Celsius variable\n",
    "\n",
    "Temp_Fahrenheit = (Temp_Celsius*9/5) + 32\n",
    "# Fahrenheit variable\n",
    "\n",
    "print(Temp_Fahrenheit)"
   ]
  },
  {
   "cell_type": "code",
   "execution_count": 14,
   "id": "6e766abb",
   "metadata": {},
   "outputs": [
    {
     "name": "stdout",
     "output_type": "stream",
     "text": [
      "78.53975\n"
     ]
    }
   ],
   "source": [
    "# TASK 2C\n",
    "\n",
    "radius =5\n",
    "# Defining variable radius\n",
    "\n",
    "area_circle = 3.14159*(radius**2)\n",
    "# Defining area variable\n",
    "\n",
    "print(area_circle)"
   ]
  },
  {
   "cell_type": "code",
   "execution_count": 17,
   "id": "9b2fce51",
   "metadata": {},
   "outputs": [
    {
     "name": "stdout",
     "output_type": "stream",
     "text": [
      "['apple', 'banana', 'orange', 'grape', 'kiwi']\n"
     ]
    }
   ],
   "source": [
    "# TASK 3A\n",
    "\n",
    "fruits =[\"apple\", \"banana\", \"orange\",\"grape\", \"kiwi\"]\n",
    "# Defining the list\n",
    "\n",
    "print(fruits)"
   ]
  },
  {
   "cell_type": "code",
   "execution_count": 19,
   "id": "78cbf4ec",
   "metadata": {},
   "outputs": [
    {
     "name": "stdout",
     "output_type": "stream",
     "text": [
      "('January', 'February', 'March')\n"
     ]
    }
   ],
   "source": [
    "# TASK 3B\n",
    "\n",
    "months =(\"January\", \"February\", \"March\")\n",
    "# Defining the tuple\n",
    "\n",
    "print(months)"
   ]
  },
  {
   "cell_type": "code",
   "execution_count": 20,
   "id": "824a6ee1",
   "metadata": {},
   "outputs": [
    {
     "name": "stdout",
     "output_type": "stream",
     "text": [
      "426\n",
      "53.25\n"
     ]
    }
   ],
   "source": [
    "#TASK 4A\n",
    "\n",
    "numbers=[12,34,45,67,89,100,23,56]\n",
    "# Creating the list\n",
    "\n",
    "print(sum(numbers))\n",
    "print(sum(numbers)/len(numbers))\n",
    "#printing sum and average"
   ]
  },
  {
   "cell_type": "code",
   "execution_count": 21,
   "id": "be2689d0",
   "metadata": {},
   "outputs": [
    {
     "name": "stdout",
     "output_type": "stream",
     "text": [
      "['banana', 'orange', 'grape']\n"
     ]
    }
   ],
   "source": [
    "#TASK 4B\n",
    "\n",
    "fruits.pop(4)\n",
    "#Removing the last element\n",
    "fruits.pop(0)\n",
    "#Removing the first element\n",
    "\n",
    "print(fruits)"
   ]
  },
  {
   "cell_type": "code",
   "execution_count": 22,
   "id": "797ca254",
   "metadata": {},
   "outputs": [
    {
     "name": "stdout",
     "output_type": "stream",
     "text": [
      "{'USA': 'Washington D.C.', 'France': 'Paris', 'Japan': 'Tokyo'}\n"
     ]
    }
   ],
   "source": [
    "#TASK 5A\n",
    "\n",
    "capitals = {\"USA\": \"Washington D.C.\",\"France\": \"Paris\",\"Japan\": \"Tokyo\"}\n",
    "# Creating the dictionary\n",
    "\n",
    "print(capitals)"
   ]
  },
  {
   "cell_type": "code",
   "execution_count": 23,
   "id": "d8ec4a11",
   "metadata": {},
   "outputs": [
    {
     "name": "stdout",
     "output_type": "stream",
     "text": [
      "{'USA': 'Washington D.C.', 'France': 'Paris', 'Japan': 'Tokyo', 'Germany': 'Berlin'}\n"
     ]
    }
   ],
   "source": [
    "#TASK 5B\n",
    "\n",
    "capitals [\"Germany\"] = \"Berlin\"\n",
    "# Updating the dictionary\n",
    "\n",
    "print(capitals)"
   ]
  },
  {
   "cell_type": "code",
   "execution_count": 24,
   "id": "2dbc909b",
   "metadata": {},
   "outputs": [
    {
     "name": "stdout",
     "output_type": "stream",
     "text": [
      "France is present in the dictionary.\n"
     ]
    }
   ],
   "source": [
    "#TASK 5C\n",
    "\n",
    "if \"France\" in capitals:\n",
    "    print(\"France is present in the dictionary.\")\n",
    "else:\n",
    "    print(\"France is not present in the dictionary.\")\n",
    "\n",
    "# Checking if \"France\" is in the dictionary"
   ]
  },
  {
   "cell_type": "code",
   "execution_count": 35,
   "id": "83a1f6ed",
   "metadata": {},
   "outputs": [
    {
     "name": "stdout",
     "output_type": "stream",
     "text": [
      "Enter a number:10\n",
      "The number is even.\n"
     ]
    }
   ],
   "source": [
    "#TASK 6A\n",
    "\n",
    "number=int(input(\"Enter a number:\"))\n",
    "#input integer\n",
    "\n",
    "if number % 2 == 0:\n",
    "    print(\"The number is even.\")\n",
    "else:\n",
    "    print(\"The number is odd.\")\n"
   ]
  },
  {
   "cell_type": "code",
   "execution_count": 37,
   "id": "c43a8756",
   "metadata": {},
   "outputs": [
    {
     "name": "stdout",
     "output_type": "stream",
     "text": [
      "Eligible for Admission\n"
     ]
    }
   ],
   "source": [
    "#TASK 6B\n",
    "\n",
    "S_Age=30\n",
    "S_GPA=3\n",
    "#Defining the variables\n",
    "\n",
    "if S_Age>18 and S_GPA>=3:\n",
    "    print(\"Eligible for Admission\")\n",
    "else:\n",
    "    print(\"Not eligible for Admission\")\n",
    "    "
   ]
  },
  {
   "cell_type": "code",
   "execution_count": 39,
   "id": "315cb381",
   "metadata": {},
   "outputs": [
    {
     "name": "stdout",
     "output_type": "stream",
     "text": [
      "{'apple', 'kiwi', 'orange', 'banana', 'grape'}\n"
     ]
    }
   ],
   "source": [
    "#TASK 7A\n",
    "\n",
    "fruits_set={\"apple\", \"banana\", \"orange\",\"grape\", \"kiwi\"}\n",
    "#creating the set\n",
    "\n",
    "print(fruits_set)"
   ]
  },
  {
   "cell_type": "code",
   "execution_count": 45,
   "id": "1a2d5702",
   "metadata": {},
   "outputs": [
    {
     "name": "stdout",
     "output_type": "stream",
     "text": [
      "{1, 2, 3, 4, 5, 6, 7}\n",
      "{3, 4, 5}\n",
      "{1, 2, 6, 7}\n",
      "False\n"
     ]
    }
   ],
   "source": [
    "#TASK 7B\n",
    "\n",
    "set1={1,2,3,4,5}\n",
    "set2={3,4,5,6,7}\n",
    "#creating the sets\n",
    "\n",
    "print(set1 | set2) # union of sets\n",
    "print(set1 & set2) # intersection of sets\n",
    "print(set1 ^ set2) # difference of sets\n",
    "print(set1 <= set2) # is set1 subset of set2\n",
    "\n"
   ]
  },
  {
   "cell_type": "code",
   "execution_count": 64,
   "id": "d9875716",
   "metadata": {},
   "outputs": [
    {
     "name": "stdout",
     "output_type": "stream",
     "text": [
      "39\n",
      "PYTHON PROGRAMMING IS FUN AND POWERFUL!\n",
      "Python programming is exciting and powerful!\n",
      "Yes\n",
      "['Python', 'programming', 'is', 'fun', 'and', 'powerful!']\n"
     ]
    }
   ],
   "source": [
    "#TASK 8\n",
    "\n",
    "string=\"Python programming is fun and powerful!\"\n",
    "#creating the string variable\n",
    "\n",
    "print(len(string)) # length\n",
    "\n",
    "print((string).upper()) # uppercase\n",
    "\n",
    "print((string).replace(\"fun\",\"exciting\")) # replacing fun with exciting\n",
    "\n",
    "if \"Python\" in string: print(\"Yes\")\n",
    "else: print(\"No\") #checking if the string contains word Python\n",
    "\n",
    "print((string).split()) #converting string to words"
   ]
  },
  {
   "cell_type": "code",
   "execution_count": null,
   "id": "4b6267c8",
   "metadata": {},
   "outputs": [],
   "source": []
  }
 ],
 "metadata": {
  "kernelspec": {
   "display_name": "Python 3 (ipykernel)",
   "language": "python",
   "name": "python3"
  },
  "language_info": {
   "codemirror_mode": {
    "name": "ipython",
    "version": 3
   },
   "file_extension": ".py",
   "mimetype": "text/x-python",
   "name": "python",
   "nbconvert_exporter": "python",
   "pygments_lexer": "ipython3",
   "version": "3.11.4"
  }
 },
 "nbformat": 4,
 "nbformat_minor": 5
}
