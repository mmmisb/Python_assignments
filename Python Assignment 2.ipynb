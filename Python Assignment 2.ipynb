{
 "cells": [
  {
   "cell_type": "code",
   "execution_count": 6,
   "id": "1b29b168",
   "metadata": {},
   "outputs": [
    {
     "name": "stdout",
     "output_type": "stream",
     "text": [
      "--- Welcome to the Guessing Game! ---\n",
      "Guess the secret number (between 1 and 50): 30\n",
      "Try again! Your guess is too low. You have 4 attempts left.\n",
      "--- Second Chance! ---\n",
      "Guess the secret number (between 1 and 50): 40\n",
      "Try again! Your guess is too high. You have 3 attempts left.\n",
      "--- Third Chance! ---\n",
      "Guess the secret number (between 1 and 50): 35\n",
      "Try again! Your guess is too low. You have 2 attempts left.\n",
      "--- Fourth Chance! ---\n",
      "Guess the secret number (between 1 and 50): 37\n",
      "Try again! Your guess is too high. You have 1 attempts left.\n",
      "--- Last Chance! ---\n",
      "Guess the secret number (between 1 and 50): 36\n",
      "Congratulations! You guessed the secret number 36 correctly!\n"
     ]
    }
   ],
   "source": [
    "#TASK 1\n",
    "\n",
    "from random import randint\n",
    "\n",
    "print(\"--- Welcome to the Guessing Game! ---\") #Welcome note\n",
    "secret_number = randint(1, 50) #Generate randome number\n",
    "attempts_left = 5 #setting the number of attempts\n",
    "\n",
    "while attempts_left > 0:\n",
    "    try:\n",
    "        guess = int(input(\"Guess the secret number (between 1 and 50): \")) #Input from user\n",
    "    except ValueError:\n",
    "        print(\"Invalid input! Please enter a valid number.\") #incase the input is not a number\n",
    "        continue\n",
    "\n",
    "    if guess == secret_number:\n",
    "        print(f\"Congratulations! You guessed the secret number {secret_number} correctly!\") #when guessed correctly\n",
    "        break\n",
    "    elif guess > secret_number:\n",
    "        print(f\"Try again! Your guess is too high. You have {attempts_left - 1} attempts left.\") #when guess is greater than secret number\n",
    "    else:\n",
    "        print(f\"Try again! Your guess is too low. You have {attempts_left - 1} attempts left.\") # when guess is smaller than secret number\n",
    "        \n",
    "    attempts_left -= 1 #reducing the number of attempts\n",
    "    \n",
    "    if attempts_left == 4:\n",
    "        print(\"--- Second Chance! ---\")\n",
    "    elif attempts_left == 3:\n",
    "        print(\"--- Third Chance! ---\")\n",
    "    elif attempts_left == 2:\n",
    "        print(\"--- Fourth Chance! ---\")\n",
    "    elif attempts_left == 1:\n",
    "        print(\"--- Last Chance! ---\")\n",
    "#specific note at the beginning of each attempt\n",
    "        \n",
    "    if attempts_left == 0:\n",
    "        print(f\"Game Over! The secret number was {secret_number}. Better luck next time!\")\n",
    "        break\n",
    "# note when attempts finished"
   ]
  },
  {
   "cell_type": "code",
   "execution_count": 8,
   "id": "2c2f11dc",
   "metadata": {},
   "outputs": [
    {
     "name": "stdout",
     "output_type": "stream",
     "text": [
      "Number of vowels in the string: 10\n"
     ]
    }
   ],
   "source": [
    "#TASK 2a\n",
    "\n",
    "def num_vowels(string):\n",
    "    vowels = \"aeiouAEIOU\"\n",
    "    count = 0\n",
    "    for x in string:\n",
    "        if x in vowels:\n",
    "            count += 1\n",
    "    return count\n",
    "#defining function which checks the number of vowels in a string using for function\n",
    "\n",
    "string = \"Learning Python is fun and engaging.\"\n",
    "result = num_vowels(string)\n",
    "print(f\"Number of vowels in the string: {result}\")"
   ]
  },
  {
   "cell_type": "code",
   "execution_count": 10,
   "id": "9562ed07",
   "metadata": {},
   "outputs": [
    {
     "name": "stdout",
     "output_type": "stream",
     "text": [
      "2.5 hours is equal to 150.0 minutes.\n"
     ]
    }
   ],
   "source": [
    "#Task 2b\n",
    "\n",
    "def conversion(hours):\n",
    "    minutes = hours * 60\n",
    "    return minutes\n",
    "#creating the function\n",
    "\n",
    "hours = 2.5\n",
    "result = conversion(hours)\n",
    "print(f\"{hours} hours is equal to {result} minutes.\")\n",
    "#printing the result"
   ]
  },
  {
   "cell_type": "code",
   "execution_count": 18,
   "id": "ad491002",
   "metadata": {},
   "outputs": [
    {
     "name": "stdout",
     "output_type": "stream",
     "text": [
      "Enter the number for which table is required: 4\n",
      "Multiplication table for 4:\n",
      "4 x 1 = 4\n",
      "4 x 2 = 8\n",
      "4 x 3 = 12\n",
      "4 x 4 = 16\n",
      "4 x 5 = 20\n",
      "4 x 6 = 24\n",
      "4 x 7 = 28\n",
      "4 x 8 = 32\n",
      "4 x 9 = 36\n",
      "4 x 10 = 40\n",
      "4 x 11 = 44\n",
      "4 x 12 = 48\n"
     ]
    }
   ],
   "source": [
    "#Task 2c\n",
    "\n",
    "number=int(input(\"Enter the number for which table is required: \"))\n",
    "\n",
    "def multiplication_table(number):\n",
    "    for i in range(1, 13):\n",
    "        print(f\"{number} x {i} = {number * i}\")\n",
    "\n",
    "print(f\"Multiplication table for {number}:\")\n",
    "multiplication_table(number)"
   ]
  },
  {
   "cell_type": "code",
   "execution_count": 25,
   "id": "a26304df",
   "metadata": {},
   "outputs": [
    {
     "name": "stdout",
     "output_type": "stream",
     "text": [
      "True\n",
      "False\n"
     ]
    }
   ],
   "source": [
    "#Task 2d\n",
    "\n",
    "def eligibility(age, GPA): #defining the function\n",
    "    if age >= 18 and GPA >= 3.0: #setting the values\n",
    "        return True\n",
    "    else:\n",
    "        return False\n",
    "\n",
    "print(eligibility(30, 3.2))\n",
    "print(eligibility(GPA=2.9, age=40))\n",
    "#printing output"
   ]
  },
  {
   "cell_type": "code",
   "execution_count": null,
   "id": "de70ba56",
   "metadata": {},
   "outputs": [],
   "source": []
  }
 ],
 "metadata": {
  "kernelspec": {
   "display_name": "Python 3 (ipykernel)",
   "language": "python",
   "name": "python3"
  },
  "language_info": {
   "codemirror_mode": {
    "name": "ipython",
    "version": 3
   },
   "file_extension": ".py",
   "mimetype": "text/x-python",
   "name": "python",
   "nbconvert_exporter": "python",
   "pygments_lexer": "ipython3",
   "version": "3.11.4"
  }
 },
 "nbformat": 4,
 "nbformat_minor": 5
}
