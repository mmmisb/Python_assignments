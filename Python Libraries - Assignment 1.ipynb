{
 "cells": [
  {
   "cell_type": "code",
   "execution_count": 1,
   "id": "198b80e3",
   "metadata": {},
   "outputs": [
    {
     "name": "stdout",
     "output_type": "stream",
     "text": [
      "[0. 0. 0. 0. 0. 0. 0. 0. 0. 0.]\n"
     ]
    }
   ],
   "source": [
    "#TASK 1\n",
    "\n",
    "import numpy as np\n",
    "\n",
    "# Create a numpy array of size 10 filled with zeros\n",
    "zeros_array = np.zeros(10)\n",
    "\n",
    "print(zeros_array)\n"
   ]
  },
  {
   "cell_type": "code",
   "execution_count": 3,
   "id": "f831fbae",
   "metadata": {},
   "outputs": [
    {
     "name": "stdout",
     "output_type": "stream",
     "text": [
      "[10. 11. 12. 13. 14. 15. 16. 17. 18. 19. 20. 21. 22. 23. 24. 25. 26. 27.\n",
      " 28. 29. 30. 31. 32. 33. 34. 35. 36. 37. 38. 39. 40. 41. 42. 43. 44. 45.\n",
      " 46. 47. 48. 49.]\n"
     ]
    }
   ],
   "source": [
    "#TASK 2\n",
    "\n",
    "float_array = np.arange(10, 50, dtype=float)\n",
    "\n",
    "print(float_array)"
   ]
  },
  {
   "cell_type": "code",
   "execution_count": 4,
   "id": "a4e965ad",
   "metadata": {},
   "outputs": [
    {
     "name": "stdout",
     "output_type": "stream",
     "text": [
      "[[1 1]\n",
      " [1 1]]\n"
     ]
    }
   ],
   "source": [
    "#TASK 3\n",
    "\n",
    "ones_matrix = np.ones((2, 2), dtype=int)\n",
    "\n",
    "print(ones_matrix)"
   ]
  },
  {
   "cell_type": "code",
   "execution_count": 5,
   "id": "d3aa38c3",
   "metadata": {},
   "outputs": [
    {
     "name": "stdout",
     "output_type": "stream",
     "text": [
      "[[1. 1.]\n",
      " [1. 1.]\n",
      " [1. 1.]]\n"
     ]
    }
   ],
   "source": [
    "#TASK 4\n",
    "\n",
    "ones_matrix_float = np.ones((3, 2), dtype=float)\n",
    "\n",
    "print(ones_matrix_float)"
   ]
  },
  {
   "cell_type": "code",
   "execution_count": 6,
   "id": "b78e464f",
   "metadata": {},
   "outputs": [
    {
     "name": "stdout",
     "output_type": "stream",
     "text": [
      "[[1 1 1]\n",
      " [1 1 1]]\n"
     ]
    }
   ],
   "source": [
    "# TASK 5\n",
    "\n",
    "# Suppose X is your existing numpy array\n",
    "X = np.array([[1, 2, 3],\n",
    "              [4, 5, 6]])\n",
    "\n",
    "# Create a new array with the same shape and type as X, filled with ones\n",
    "ones_like_X = np.ones_like(X)\n",
    "\n",
    "print(ones_like_X)"
   ]
  },
  {
   "cell_type": "code",
   "execution_count": 7,
   "id": "bb742217",
   "metadata": {},
   "outputs": [
    {
     "name": "stdout",
     "output_type": "stream",
     "text": [
      "[[0 0 0]\n",
      " [0 0 0]]\n"
     ]
    }
   ],
   "source": [
    "# TASK 6\n",
    "\n",
    "# Suppose X is your existing numpy array\n",
    "X = np.array([[1, 2, 3],\n",
    "              [4, 5, 6]])\n",
    "\n",
    "# Create a new array with the same shape and type as X, filled with zeros\n",
    "zeros_like_X = np.zeros_like(X)\n",
    "\n",
    "print(zeros_like_X)"
   ]
  },
  {
   "cell_type": "code",
   "execution_count": 8,
   "id": "434e4622",
   "metadata": {},
   "outputs": [
    {
     "name": "stdout",
     "output_type": "stream",
     "text": [
      "[[5 5 5 5]\n",
      " [5 5 5 5]\n",
      " [5 5 5 5]\n",
      " [5 5 5 5]]\n"
     ]
    }
   ],
   "source": [
    "# TASK 7\n",
    "\n",
    "fives_matrix = np.full((4, 4), 5, dtype=int)\n",
    "\n",
    "print(fives_matrix)"
   ]
  },
  {
   "cell_type": "code",
   "execution_count": 9,
   "id": "8a3f4d5c",
   "metadata": {},
   "outputs": [
    {
     "name": "stdout",
     "output_type": "stream",
     "text": [
      "[[7 7 7]\n",
      " [7 7 7]]\n"
     ]
    }
   ],
   "source": [
    "#TASK 8\n",
    "\n",
    "X = np.array([[1, 2, 3],\n",
    "              [4, 5, 6]])\n",
    "\n",
    "# Create a new array with the same shape and type as X, filled with sevens\n",
    "sevens_like_X = np.full_like(X, 7)\n",
    "\n",
    "print(sevens_like_X)"
   ]
  },
  {
   "cell_type": "code",
   "execution_count": 10,
   "id": "7cfaf68f",
   "metadata": {},
   "outputs": [
    {
     "name": "stdout",
     "output_type": "stream",
     "text": [
      "[[1. 0. 0.]\n",
      " [0. 1. 0.]\n",
      " [0. 0. 1.]]\n"
     ]
    }
   ],
   "source": [
    "#TASK 9\n",
    "\n",
    "identity_matrix = np.eye(3)\n",
    "\n",
    "print(identity_matrix)"
   ]
  },
  {
   "cell_type": "code",
   "execution_count": 11,
   "id": "0fdaedb9",
   "metadata": {},
   "outputs": [
    {
     "name": "stdout",
     "output_type": "stream",
     "text": [
      "[ 7  4 10]\n"
     ]
    }
   ],
   "source": [
    "# TASK 10\n",
    "\n",
    "random_array = np.random.randint(1, 11, 3)\n",
    "\n",
    "print(random_array)"
   ]
  },
  {
   "cell_type": "code",
   "execution_count": 12,
   "id": "04651a9b",
   "metadata": {},
   "outputs": [
    {
     "name": "stdout",
     "output_type": "stream",
     "text": [
      "[[[0.69130598 0.02845573 0.23669772]\n",
      "  [0.85446711 0.56002425 0.17288552]\n",
      "  [0.50301483 0.64021681 0.94275377]]\n",
      "\n",
      " [[0.54955747 0.76864801 0.59716111]\n",
      "  [0.72175798 0.96959295 0.88959275]\n",
      "  [0.61967692 0.34449427 0.25637599]]\n",
      "\n",
      " [[0.11635411 0.88910568 0.51647929]\n",
      "  [0.26185713 0.13280716 0.72538773]\n",
      "  [0.44543455 0.98452403 0.120025  ]]]\n"
     ]
    }
   ],
   "source": [
    "# TASK 11\n",
    "\n",
    "random_float_matrix = np.random.rand(3, 3, 3)\n",
    "\n",
    "print(random_float_matrix)\n"
   ]
  },
  {
   "cell_type": "code",
   "execution_count": 13,
   "id": "b43c51c0",
   "metadata": {},
   "outputs": [
    {
     "name": "stdout",
     "output_type": "stream",
     "text": [
      "[ 1  2  3  4  5  6  7  8  9 10]\n"
     ]
    }
   ],
   "source": [
    "# TASK 12\n",
    "array_1_to_10 = np.arange(1, 11)\n",
    "\n",
    "print(array_1_to_10)"
   ]
  },
  {
   "cell_type": "raw",
   "id": "0ff82a78",
   "metadata": {},
   "source": [
    "                        "
   ]
  },
  {
   "cell_type": "code",
   "execution_count": 14,
   "id": "81929520",
   "metadata": {},
   "outputs": [
    {
     "name": "stdout",
     "output_type": "stream",
     "text": [
      "[1 3 5 7 9]\n"
     ]
    }
   ],
   "source": [
    "#TASK 13\n",
    "\n",
    "# Create a numpy array with odd numbers from 1 to 10\n",
    "odd_numbers_array = np.arange(1, 11, 2)\n",
    "\n",
    "print(odd_numbers_array)\n"
   ]
  },
  {
   "cell_type": "code",
   "execution_count": 15,
   "id": "2b49a9a4",
   "metadata": {},
   "outputs": [
    {
     "name": "stdout",
     "output_type": "stream",
     "text": [
      "[10  9  8  7  6  5  4  3  2  1]\n"
     ]
    }
   ],
   "source": [
    "# TASK 14\n",
    "\n",
    "descending_array = np.arange(10, 0, -1)\n",
    "\n",
    "print(descending_array)\n"
   ]
  },
  {
   "cell_type": "code",
   "execution_count": 16,
   "id": "1b38f862",
   "metadata": {},
   "outputs": [
    {
     "name": "stdout",
     "output_type": "stream",
     "text": [
      "[[0 1 2]\n",
      " [3 4 5]\n",
      " [6 7 8]]\n"
     ]
    }
   ],
   "source": [
    "# TASK 15\n",
    "\n",
    "matrix_3x3 = np.arange(9).reshape((3, 3))\n",
    "\n",
    "print(matrix_3x3)\n"
   ]
  },
  {
   "cell_type": "code",
   "execution_count": 17,
   "id": "bacdee3b",
   "metadata": {},
   "outputs": [
    {
     "name": "stdout",
     "output_type": "stream",
     "text": [
      "A\n"
     ]
    }
   ],
   "source": [
    "# TASK 1\n",
    "\n",
    "X = np.array(['A', 'B', 'C', 'D', 'E'])\n",
    "\n",
    "first_element = X[0]\n",
    "\n",
    "print(first_element)"
   ]
  },
  {
   "cell_type": "code",
   "execution_count": 18,
   "id": "da339e39",
   "metadata": {},
   "outputs": [
    {
     "name": "stdout",
     "output_type": "stream",
     "text": [
      "E\n"
     ]
    }
   ],
   "source": [
    "#TASK 2\n",
    "X = np.array(['A', 'B', 'C', 'D', 'E'])\n",
    "\n",
    "last_element = X[-1]\n",
    "\n",
    "print(last_element)"
   ]
  },
  {
   "cell_type": "code",
   "execution_count": 19,
   "id": "dbfa0a18",
   "metadata": {},
   "outputs": [
    {
     "name": "stdout",
     "output_type": "stream",
     "text": [
      "['A' 'B' 'C']\n"
     ]
    }
   ],
   "source": [
    "#TASK 3\n",
    "\n",
    "X = np.array(['A', 'B', 'C', 'D', 'E'])\n",
    "\n",
    "first_three_elements = X[:3]\n",
    "\n",
    "print(first_three_elements)"
   ]
  },
  {
   "cell_type": "code",
   "execution_count": 20,
   "id": "722dc4d1",
   "metadata": {},
   "outputs": [
    {
     "name": "stdout",
     "output_type": "stream",
     "text": [
      "['B' 'C' 'D']\n"
     ]
    }
   ],
   "source": [
    "# TASK 4\n",
    "\n",
    "X = np.array(['A', 'B', 'C', 'D', 'E'])\n",
    "\n",
    "middle_elements = X[1:-1]\n",
    "\n",
    "print(middle_elements)"
   ]
  },
  {
   "cell_type": "code",
   "execution_count": 21,
   "id": "2f84b00f",
   "metadata": {},
   "outputs": [
    {
     "name": "stdout",
     "output_type": "stream",
     "text": [
      "['E' 'D' 'C' 'B' 'A']\n"
     ]
    }
   ],
   "source": [
    "#TASK 5\n",
    "\n",
    "X = np.array(['A', 'B', 'C', 'D', 'E'])\n",
    "\n",
    "reverse_elements = X[::-1]\n",
    "\n",
    "print(reverse_elements)"
   ]
  },
  {
   "cell_type": "code",
   "execution_count": 22,
   "id": "2d759ff2",
   "metadata": {},
   "outputs": [
    {
     "name": "stdout",
     "output_type": "stream",
     "text": [
      "['A' 'C' 'E']\n"
     ]
    }
   ],
   "source": [
    "# TASK 6\n",
    "\n",
    "X = np.array(['A', 'B', 'C', 'D', 'E'])\n",
    "\n",
    "odd_position_elements = X[::2]\n",
    "\n",
    "print(odd_position_elements)\n"
   ]
  },
  {
   "cell_type": "code",
   "execution_count": 23,
   "id": "79d657b1",
   "metadata": {},
   "outputs": [
    {
     "name": "stdout",
     "output_type": "stream",
     "text": [
      "[1 2 3 4]\n"
     ]
    }
   ],
   "source": [
    "# TASK 7\n",
    "\n",
    "X = np.array([\n",
    "    [1, 2, 3, 4],\n",
    "    [5, 6, 7, 8],\n",
    "    [9, 10, 11, 12],\n",
    "    [13, 14, 15, 16]\n",
    "])\n",
    "\n",
    "first_row_elements = X[0, :]\n",
    "\n",
    "print(first_row_elements)"
   ]
  },
  {
   "cell_type": "code",
   "execution_count": 24,
   "id": "411026d5",
   "metadata": {},
   "outputs": [
    {
     "name": "stdout",
     "output_type": "stream",
     "text": [
      "[13 14 15 16]\n"
     ]
    }
   ],
   "source": [
    "# TASK 8\n",
    "\n",
    "import numpy as np\n",
    "\n",
    "X = np.array([\n",
    "    [1, 2, 3, 4],\n",
    "    [5, 6, 7, 8],\n",
    "    [9, 10, 11, 12],\n",
    "    [13, 14, 15, 16]\n",
    "])\n",
    "\n",
    "last_row_elements = X[-1, :]\n",
    "\n",
    "print(last_row_elements)\n"
   ]
  },
  {
   "cell_type": "code",
   "execution_count": 25,
   "id": "97a318cc",
   "metadata": {},
   "outputs": [
    {
     "name": "stdout",
     "output_type": "stream",
     "text": [
      "1\n"
     ]
    }
   ],
   "source": [
    "# TASK 9\n",
    "\n",
    "X = np.array([\n",
    "    [1, 2, 3, 4],\n",
    "    [5, 6, 7, 8],\n",
    "    [9, 10, 11, 12],\n",
    "    [13, 14, 15, 16]\n",
    "])\n",
    "\n",
    "first_element_first_row = X[0, 0]\n",
    "\n",
    "print(first_element_first_row)\n"
   ]
  },
  {
   "cell_type": "code",
   "execution_count": 26,
   "id": "29696af4",
   "metadata": {},
   "outputs": [
    {
     "name": "stdout",
     "output_type": "stream",
     "text": [
      "16\n"
     ]
    }
   ],
   "source": [
    "# TASK 10\n",
    "\n",
    "import numpy as np\n",
    "\n",
    "X = np.array([\n",
    "    [1, 2, 3, 4],\n",
    "    [5, 6, 7, 8],\n",
    "    [9, 10, 11, 12],\n",
    "    [13, 14, 15, 16]\n",
    "])\n",
    "\n",
    "last_element_last_row = X[-1, -1]\n",
    "\n",
    "print(last_element_last_row)\n"
   ]
  },
  {
   "cell_type": "code",
   "execution_count": 29,
   "id": "474e94b3",
   "metadata": {},
   "outputs": [
    {
     "name": "stdout",
     "output_type": "stream",
     "text": [
      "[[1 2]\n",
      " [5 6]]\n"
     ]
    }
   ],
   "source": [
    "# TASK 11\n",
    "\n",
    "X = np.array([\n",
    "    [1, 2, 3, 4],\n",
    "    [5, 6, 7, 8],\n",
    "    [9, 10, 11, 12],\n",
    "    [13, 14, 15, 16]\n",
    "])\n",
    "\n",
    "first_two_elements_first_two_rows = X[:2, :2]\n",
    "\n",
    "print(first_two_elements_first_two_rows)\n"
   ]
  },
  {
   "cell_type": "code",
   "execution_count": 30,
   "id": "80e28478",
   "metadata": {},
   "outputs": [
    {
     "name": "stdout",
     "output_type": "stream",
     "text": [
      "[[11 12]\n",
      " [15 16]]\n"
     ]
    }
   ],
   "source": [
    "# TASK 12\n",
    "\n",
    "X = np.array([\n",
    "    [1, 2, 3, 4],\n",
    "    [5, 6, 7, 8],\n",
    "    [9, 10, 11, 12],\n",
    "    [13, 14, 15, 16]\n",
    "])\n",
    "\n",
    "# Show the last two elements on the last two rows\n",
    "last_two_elements_last_two_rows = X[-2:, -2:]\n",
    "\n",
    "print(last_two_elements_last_two_rows)\n"
   ]
  },
  {
   "cell_type": "code",
   "execution_count": 31,
   "id": "59c89e24",
   "metadata": {},
   "outputs": [
    {
     "name": "stdout",
     "output_type": "stream",
     "text": [
      "[-5. -3.  0. 10. 40.]\n"
     ]
    }
   ],
   "source": [
    "# TASK 1\n",
    "\n",
    "X = np.array([-5, -3, 0, 10, 40])\n",
    "\n",
    "X_float = X.astype(float)\n",
    "\n",
    "print(X_float)"
   ]
  },
  {
   "cell_type": "code",
   "execution_count": 32,
   "id": "3b150038",
   "metadata": {},
   "outputs": [
    {
     "name": "stdout",
     "output_type": "stream",
     "text": [
      "[40 10  0 -3 -5]\n"
     ]
    }
   ],
   "source": [
    "# TASK 2\n",
    "\n",
    "X = np.array([-5, -3, 0, 10, 40])\n",
    "\n",
    "reversed_X = X[::-1]\n",
    "\n",
    "print(reversed_X)\n"
   ]
  },
  {
   "cell_type": "code",
   "execution_count": 33,
   "id": "675740ca",
   "metadata": {},
   "outputs": [
    {
     "name": "stdout",
     "output_type": "stream",
     "text": [
      "[0. 0. 0. 0. 1. 0. 0. 0. 0. 0.]\n"
     ]
    }
   ],
   "source": [
    "# TASK 3\n",
    "\n",
    "X = np.zeros(10)\n",
    "\n",
    "X[4] = 1\n",
    "\n",
    "print(X)"
   ]
  },
  {
   "cell_type": "code",
   "execution_count": 34,
   "id": "9d111ea8",
   "metadata": {},
   "outputs": [
    {
     "name": "stdout",
     "output_type": "stream",
     "text": [
      "[[ 1  2  3  4]\n",
      " [ 5  6  7  8]\n",
      " [ 9 10 11 12]\n",
      " [ 1  1  1  1]]\n"
     ]
    }
   ],
   "source": [
    "# TASK 4\n",
    "\n",
    "X = np.array([\n",
    "    [1,   2,  3,  4],\n",
    "    [5,   6,  7,  8],\n",
    "    [9,  10, 11, 12],\n",
    "    [13, 14, 15, 16]\n",
    "])\n",
    "\n",
    "X[-1, :] = 1\n",
    "\n",
    "print(X)\n"
   ]
  },
  {
   "cell_type": "code",
   "execution_count": 35,
   "id": "3380e658",
   "metadata": {},
   "outputs": [
    {
     "name": "stdout",
     "output_type": "stream",
     "text": [
      "[[ 6  7  8  9]\n",
      " [10 11 12 13]\n",
      " [14 15 16 17]\n",
      " [18 19 20 21]]\n"
     ]
    }
   ],
   "source": [
    "# TASK 5\n",
    "\n",
    "X = np.array([\n",
    "    [1,   2,  3,  4],\n",
    "    [5,   6,  7,  8],\n",
    "    [9,  10, 11, 12],\n",
    "    [13, 14, 15, 16]\n",
    "])\n",
    "\n",
    "X += 5\n",
    "\n",
    "print(X)\n"
   ]
  },
  {
   "cell_type": "code",
   "execution_count": null,
   "id": "b8d26bc6",
   "metadata": {},
   "outputs": [],
   "source": []
  }
 ],
 "metadata": {
  "kernelspec": {
   "display_name": "Python 3 (ipykernel)",
   "language": "python",
   "name": "python3"
  },
  "language_info": {
   "codemirror_mode": {
    "name": "ipython",
    "version": 3
   },
   "file_extension": ".py",
   "mimetype": "text/x-python",
   "name": "python",
   "nbconvert_exporter": "python",
   "pygments_lexer": "ipython3",
   "version": "3.11.4"
  }
 },
 "nbformat": 4,
 "nbformat_minor": 5
}
